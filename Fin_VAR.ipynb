{
 "cells": [
  {
   "cell_type": "code",
   "execution_count": 263,
   "id": "66b44295",
   "metadata": {},
   "outputs": [
    {
     "name": "stdout",
     "output_type": "stream",
     "text": [
      "Requirement already satisfied: norm in /opt/miniconda3/lib/python3.13/site-packages (1.6.0)\n",
      "Note: you may need to restart the kernel to use updated packages.\n"
     ]
    }
   ],
   "source": [
    "pip install norm"
   ]
  },
  {
   "cell_type": "code",
   "execution_count": 264,
   "id": "94be8fc4",
   "metadata": {},
   "outputs": [
    {
     "name": "stdout",
     "output_type": "stream",
     "text": [
      "Requirement already satisfied: scipy in /opt/miniconda3/lib/python3.13/site-packages (1.15.3)\n",
      "Requirement already satisfied: numpy<2.5,>=1.23.5 in /opt/miniconda3/lib/python3.13/site-packages (from scipy) (2.2.6)\n",
      "Note: you may need to restart the kernel to use updated packages.\n"
     ]
    }
   ],
   "source": [
    "%pip install scipy\n",
    "\n",
    "import numpy as np\n",
    "import pandas as pd\n",
    "import datetime as dt\n",
    "import yfinance as yf\n",
    "import xlwings as xw\n",
    "import matplotlib.pyplot as plt\n",
    "from scipy.stats import norm"
   ]
  },
  {
   "cell_type": "code",
   "execution_count": 265,
   "id": "a95c8a0a",
   "metadata": {},
   "outputs": [],
   "source": [
    "# Make sure 'Richspread.xlsx' is in the same directory as your notebook, or provide the full path\n",
    "book = xw.Book('Richspread.xlsx')  # or use the full path, e.g. r'C:/Users/yourname/Documents/Richspread.xlsx'\n",
    "sht = book.sheets['VAR_inputs']"
   ]
  },
  {
   "cell_type": "code",
   "execution_count": 266,
   "id": "6fa378fa",
   "metadata": {},
   "outputs": [
    {
     "name": "stdout",
     "output_type": "stream",
     "text": [
      "['AAPL', 'GOOG', 'SPY', 'MSFT', 'JNJ', 'NVDA', 'UNH', 'JPM', 'XOM', 'SNAP']\n",
      "[0.0784477868038095, 0.07010202706004177, 0.11835554977324375, 0.18576526966929557, 0.06109103981729987, 0.05624998896193308, 0.12166049417965183, 0.11633317968344199, 0.021092028828094814, 0.033771578930223915, 0.13713105629296382]\n"
     ]
    }
   ],
   "source": [
    "tickers = sht.range('B2:K2').value\n",
    "tickers = [t for t in tickers if t is not None]  # Remove any empty cells\n",
    "print(tickers)\n",
    "\n",
    "weights = sht.range('B12:AA12').value\n",
    "weights = [w for w in weights if w is not None]  # Remove any empty cells\n",
    "print(weights)"
   ]
  },
  {
   "cell_type": "code",
   "execution_count": 267,
   "id": "ec9c7706",
   "metadata": {},
   "outputs": [
    {
     "name": "stderr",
     "output_type": "stream",
     "text": [
      "[*********************100%***********************]  1 of 1 completed\n",
      "[*********************100%***********************]  1 of 1 completed\n",
      "[*********************100%***********************]  1 of 1 completed\n",
      "[*********************100%***********************]  1 of 1 completed\n",
      "[*********************100%***********************]  1 of 1 completed\n",
      "[*********************100%***********************]  1 of 1 completed\n",
      "[*********************100%***********************]  1 of 1 completed\n",
      "[*********************100%***********************]  1 of 1 completed\n",
      "[*********************100%***********************]  1 of 1 completed\n",
      "[*********************100%***********************]  1 of 1 completed"
     ]
    },
    {
     "name": "stdout",
     "output_type": "stream",
     "text": [
      "                  AAPL        GOOG         SPY        MSFT         JNJ  \\\n",
      "Date                                                                     \n",
      "2015-06-15   28.425865   26.204241  175.939636   39.435276   73.809189   \n",
      "2015-06-16   28.578171   26.251459  176.898758   39.738762   74.467865   \n",
      "2015-06-17   28.510983   26.306631  177.184799   39.860161   74.747986   \n",
      "2015-06-18   28.640873   26.677923  179.027435   40.510468   75.982048   \n",
      "2015-06-19   28.354198   26.675934  178.232681   39.972874   75.603500   \n",
      "...                ...         ...         ...         ...         ...   \n",
      "2025-06-04  202.820007  169.186630  595.929993  463.869995  153.220001   \n",
      "2025-06-05  200.630005  169.606125  593.049988  467.679993  153.660004   \n",
      "2025-06-06  203.919998  174.709991  599.140015  470.380005  155.029999   \n",
      "2025-06-09  201.449997  177.630005  599.679993  472.750000  155.229996   \n",
      "2025-06-10  202.669998  180.009995  603.080017  470.920013  156.449997   \n",
      "\n",
      "                  NVDA         UNH         JPM         XOM  SNAP  \n",
      "Date                                                              \n",
      "2015-06-15    0.509955  102.531120   51.667404   54.023781   NaN  \n",
      "2015-06-16    0.516247  104.745850   51.956169   54.643246   NaN  \n",
      "2015-06-17    0.522298  103.186066   51.781399   54.675507   NaN  \n",
      "2015-06-18    0.531011  104.177071   52.267746   55.159473   NaN  \n",
      "2015-06-19    0.529317  103.694496   51.735802   54.985245   NaN  \n",
      "...                ...         ...         ...         ...   ...  \n",
      "2025-06-04  141.919998  300.380005  264.220001  102.300003  8.45  \n",
      "2025-06-05  139.990005  295.839996  261.950012  101.830002  8.20  \n",
      "2025-06-06  141.720001  303.220001  265.730011  104.269997  8.27  \n",
      "2025-06-09  142.630005  303.190002  266.739990  104.970001  8.50  \n",
      "2025-06-10  143.960007  303.790009  268.600006  107.220001  8.49  \n",
      "\n",
      "[2513 rows x 10 columns]\n"
     ]
    },
    {
     "name": "stderr",
     "output_type": "stream",
     "text": [
      "\n"
     ]
    }
   ],
   "source": [
    "\n",
    "\n",
    "endDate = sht.range('B8').value.strftime('%Y-%m-%d')\n",
    "startDate =sht.range('B6').value.strftime('%Y-%m-%d')\n",
    "\n",
    "\n",
    "close_df = pd.DataFrame()\n",
    "\n",
    "for ticker in tickers:\n",
    "    data = yf.download(ticker, start=startDate, end=endDate)\n",
    "    # Use 'Close' instead of 'Adj Close'\n",
    "    close_df[ticker] = data['Close']\n",
    "\n",
    "print(close_df)"
   ]
  },
  {
   "cell_type": "code",
   "execution_count": 268,
   "id": "6e82e4e2",
   "metadata": {},
   "outputs": [
    {
     "name": "stdout",
     "output_type": "stream",
     "text": [
      "                AAPL      GOOG       SPY      MSFT       JNJ      NVDA  \\\n",
      "Date                                                                     \n",
      "2017-03-03  0.005884 -0.001868  0.000629  0.003743  0.001293 -0.005774   \n",
      "2017-03-06 -0.003153 -0.001569 -0.002982  0.000311 -0.000647 -0.007751   \n",
      "2017-03-07  0.001291  0.004977 -0.002991  0.002021  0.000970  0.010896   \n",
      "2017-03-08 -0.003735  0.004150 -0.001858  0.009120  0.002178 -0.001824   \n",
      "2017-03-09 -0.002304  0.003955  0.001267 -0.004009  0.014797 -0.000203   \n",
      "...              ...       ...       ...       ...       ...       ...   \n",
      "2025-06-04 -0.002216  0.009967 -0.000269  0.001942 -0.007801  0.004945   \n",
      "2025-06-05 -0.010856  0.002476 -0.004845  0.008180  0.002868 -0.013692   \n",
      "2025-06-06  0.016265  0.029649  0.010217  0.005757  0.008876  0.012282   \n",
      "2025-06-09 -0.012187  0.016575  0.000901  0.005026  0.001289  0.006401   \n",
      "2025-06-10  0.006038  0.013310  0.005654 -0.003878  0.007829  0.009282   \n",
      "\n",
      "                 UNH       JPM       XOM      SNAP  \n",
      "Date                                                \n",
      "2017-03-03  0.005305  0.007137 -0.010135  0.101308  \n",
      "2017-03-06  0.002968 -0.009528  0.004477 -0.130740  \n",
      "2017-03-07 -0.002374 -0.005563 -0.003750 -0.103166  \n",
      "2017-03-08  0.001400 -0.002190 -0.018221  0.061941  \n",
      "2017-03-09  0.000596  0.003939  0.007867 -0.004394  \n",
      "...              ...       ...       ...       ...  \n",
      "2025-06-04 -0.002793 -0.007729 -0.014556  0.009513  \n",
      "2025-06-05 -0.015230 -0.008628 -0.004605 -0.030032  \n",
      "2025-06-06  0.024640  0.014327  0.023679  0.008500  \n",
      "2025-06-09 -0.000099  0.003794  0.006691  0.027432  \n",
      "2025-06-10  0.001977  0.006949  0.021208 -0.001177  \n",
      "\n",
      "[2080 rows x 10 columns]\n"
     ]
    }
   ],
   "source": [
    "log_returns = np.log(close_df / close_df.shift(1))\n",
    "log_returns = log_returns.dropna()\n",
    "print(log_returns)\n"
   ]
  },
  {
   "cell_type": "code",
   "execution_count": 269,
   "id": "616e39c9",
   "metadata": {},
   "outputs": [],
   "source": [
    "def expected_return(weights, log_returns):\n",
    "    return np.sum(log_returns.mean()*weights)"
   ]
  },
  {
   "cell_type": "code",
   "execution_count": 270,
   "id": "18961d30",
   "metadata": {},
   "outputs": [
    {
     "name": "stdout",
     "output_type": "stream",
     "text": [
      "          AAPL      GOOG       SPY      MSFT       JNJ      NVDA       UNH  \\\n",
      "AAPL  0.000363  0.000229  0.000178  0.000239  0.000073  0.000355  0.000123   \n",
      "GOOG  0.000229  0.000356  0.000167  0.000243  0.000059  0.000354  0.000113   \n",
      "SPY   0.000178  0.000167  0.000145  0.000172  0.000068  0.000266  0.000112   \n",
      "MSFT  0.000239  0.000243  0.000172  0.000309  0.000071  0.000373  0.000128   \n",
      "JNJ   0.000073  0.000059  0.000068  0.000071  0.000145  0.000050  0.000092   \n",
      "NVDA  0.000355  0.000354  0.000266  0.000373  0.000050  0.001042  0.000149   \n",
      "UNH   0.000123  0.000113  0.000112  0.000128  0.000092  0.000149  0.000361   \n",
      "JPM   0.000149  0.000143  0.000155  0.000140  0.000079  0.000206  0.000128   \n",
      "XOM   0.000113  0.000101  0.000120  0.000089  0.000067  0.000130  0.000105   \n",
      "SNAP  0.000275  0.000340  0.000217  0.000272  0.000028  0.000528  0.000081   \n",
      "\n",
      "           JPM       XOM      SNAP  \n",
      "AAPL  0.000149  0.000113  0.000275  \n",
      "GOOG  0.000143  0.000101  0.000340  \n",
      "SPY   0.000155  0.000120  0.000217  \n",
      "MSFT  0.000140  0.000089  0.000272  \n",
      "JNJ   0.000079  0.000067  0.000028  \n",
      "NVDA  0.000206  0.000130  0.000528  \n",
      "UNH   0.000128  0.000105  0.000081  \n",
      "JPM   0.000322  0.000187  0.000184  \n",
      "XOM   0.000187  0.000344  0.000110  \n",
      "SNAP  0.000184  0.000110  0.002198  \n"
     ]
    }
   ],
   "source": [
    "cov_matrix = log_returns.cov()\n",
    "print(cov_matrix)\n",
    "# Annualize the covariance matrix"
   ]
  },
  {
   "cell_type": "code",
   "execution_count": 271,
   "id": "52a272eb",
   "metadata": {},
   "outputs": [],
   "source": [
    "def standard_deviation (weights, cov_matrix):\n",
    "    variance = weights.T @ cov_matrix @ weights\n",
    "    return np.sqrt(variance)"
   ]
  },
  {
   "cell_type": "code",
   "execution_count": 272,
   "id": "641bdc98",
   "metadata": {},
   "outputs": [],
   "source": [
    "weights = np.array(weights)  # Ensure weights is a numpy array for matrix operations\n",
    "\n",
    "# Ensure weights matches the number of tickers/assets\n",
    "weights = weights[:len(tickers)]\n",
    "\n",
    "Portfolio_value = sht.range('B10').value,  # Equal weights for each asset\n",
    "portfolio_expected_return = expected_return(weights, log_returns)\n",
    "portfolio_std_dev = standard_deviation(weights, cov_matrix)"
   ]
  },
  {
   "cell_type": "code",
   "execution_count": 273,
   "id": "f49e68d4",
   "metadata": {},
   "outputs": [],
   "source": [
    "def random_z_score():\n",
    "    return np.random.normal(0, 1)\n",
    " "
   ]
  },
  {
   "cell_type": "code",
   "execution_count": 274,
   "id": "04210806",
   "metadata": {},
   "outputs": [],
   "source": [
    "days = sht.range('B14').value\n",
    "\n",
    "def scenario_gain_loss(portfolio_value, portfolio_expected_return, portfolio_std_dev, z_score, days):\n",
    "    return portfolio_value * portfolio_expected_return * days + portfolio_value * portfolio_std_dev * z_score * np.sqrt(days)"
   ]
  },
  {
   "cell_type": "code",
   "execution_count": 275,
   "id": "def3bb14",
   "metadata": {},
   "outputs": [],
   "source": [
    "def scenario_gain_loss(portfolio_value, portfolio_expected_return, portfolio_std_dev, z_score, days):\n",
    "    return portfolio_value * portfolio_expected_return * days + portfolio_value * portfolio_std_dev * z_score * np.sqrt(days)\n",
    "\n",
    "simulations = sht.range('B16').value\n",
    "scenarioReturn = []\n",
    "\n",
    "# Extract scalar value from Portfolio_value tuple\n",
    "portfolio_value_scalar = Portfolio_value[0]\n",
    "\n",
    "for i in range(int(simulations)):\n",
    "    z_score = random_z_score()\n",
    "    scenarioReturn.append(scenario_gain_loss(portfolio_value_scalar, portfolio_expected_return, portfolio_std_dev, z_score, days))"
   ]
  },
  {
   "cell_type": "code",
   "execution_count": 276,
   "id": "19d244b9",
   "metadata": {},
   "outputs": [
    {
     "name": "stdout",
     "output_type": "stream",
     "text": [
      "Value at Risk (VaR) at 95.0% confidence level: $22641.40\n"
     ]
    }
   ],
   "source": [
    "confidence_interval = sht.range('B18').value\n",
    "VaR =-np.percentile(scenarioReturn, 100*(1-confidence_interval))\n",
    "print(f\"Value at Risk (VaR) at {confidence_interval*100}% confidence level: ${VaR:.2f}\")"
   ]
  },
  {
   "cell_type": "code",
   "execution_count": 277,
   "id": "975426ec",
   "metadata": {},
   "outputs": [
    {
     "data": {
      "image/png": "[encoded data removed]",
      "text/plain": [
       "<Figure size 640x480 with 1 Axes>"
      ]
     },
     "metadata": {},
     "output_type": "display_data"
    }
   ],
   "source": [
    "# ...existing code...\n",
    "# Plot histogram and get bin info\n",
    "n, bins, patches = plt.hist(scenarioReturn, bins=50, density=True, alpha=0.7)\n",
    "\n",
    "plt.xlabel('Scenario Gain/Loss ($)')\n",
    "plt.ylabel('Frequency')\n",
    "plt.title(f'Distribution of Portfolio Gain/Loss Over {days} Days')\n",
    "plt.axvline(-VaR, color='r', linestyle='dashed', linewidth=2, label=f'VaR at {confidence_interval:.0%} confidence level')\n",
    "\n",
    "# Color the left tail (losses worse than VaR) in red\n",
    "for i in range(len(bins)-1):\n",
    "    if bins[i+1] < -VaR:\n",
    "        patches[i].set_facecolor('red')\n",
    "\n",
    "plt.legend()\n",
    "plt.savefig('var_hist.png')\n",
    "plt.show()\n",
    "# ...existing code...\n"
   ]
  },
  {
   "cell_type": "code",
   "execution_count": 278,
   "id": "e98dcb24",
   "metadata": {},
   "outputs": [
    {
     "name": "stdout",
     "output_type": "stream",
     "text": [
      "There is a 95% confidence that the portfolio will not lose more than $22,641.40 over 30.0 days.\n"
     ]
    },
    {
     "data": {
      "text/plain": [
       "<Picture 'VaR_Hist' in <Sheet [Richspread.xlsx]Portfolio>>"
      ]
     },
     "execution_count": 278,
     "metadata": {},
     "output_type": "execute_result"
    }
   ],
   "source": [
    "book = xw.Book('Richspread.xlsx')\n",
    "portfolio = book.sheets['Portfolio']\n",
    "confidence_pct = int(confidence_interval * 100)\n",
    "statement = f\"There is a {confidence_pct}% confidence that the portfolio will not lose more than ${VaR:,.2f} over {days} days.\"\n",
    "\n",
    "# Print to notebook output\n",
    "print(statement)\n",
    "\n",
    "# Writto Excel (for example, cell B22)\n",
    "portfolio.range('A24').value = statement\n",
    "portfolio.pictures.add('var_hist.png', name='VaR_Hist', update=True, left=portfolio.range('A25').left, top=portfolio.range('A25').top)\n"
   ]
  }
 ],
 "metadata": {
  "kernelspec": {
   "display_name": "Python 3 (ipykernel)",
   "language": "python",
   "name": "python3"
  },
  "language_info": {
   "codemirror_mode": {
    "name": "ipython",
    "version": 3
   },
   "file_extension": ".py",
   "mimetype": "text/x-python",
   "name": "python",
   "nbconvert_exporter": "python",
   "pygments_lexer": "ipython3",
   "version": "3.12.4"
  }
 },
 "nbformat": 4,
 "nbformat_minor": 5
}
